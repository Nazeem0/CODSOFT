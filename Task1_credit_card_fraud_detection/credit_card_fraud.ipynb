{
 "cells": [
  {
   "cell_type": "code",
   "execution_count": null,
   "id": "827898dc",
   "metadata": {},
   "outputs": [],
   "source": [
    "import pandas as pd\n",
    "from sklearn.preprocessing import StandardScaler\n",
    "from sklearn.linear_model import LogisticRegression\n",
    "from sklearn.metrics import classification_report, confusion_matrix\n",
    "import matplotlib.pyplot as plt\n",
    "# Load the CSV files again\n",
    "train_df = pd.read_csv(\"fraudTrain.csv\")\n",
    "test_df  = pd.read_csv(\"fraudTest.csv\")\n",
    "\n",
    "# Strip whitespace from column names\n",
    "train_df.columns = train_df.columns.str.strip()\n",
    "test_df.columns  = test_df.columns.str.strip()\n",
    "\n",
    "# Check the columns\n",
    "print(train_df.columns.tolist())\n",
    "\n"
   ]
  },
  {
   "cell_type": "code",
   "execution_count": null,
   "id": "c22827bf",
   "metadata": {},
   "outputs": [],
   "source": [
    "columns_to_drop = ['Unnamed: 0','trans_date_trans_time','cc_num','first','last',\n",
    "                   'street','city','state','zip','job','dob','trans_num']\n",
    "\n",
    "train_df = train_df.drop(columns=[c for c in columns_to_drop if c in train_df.columns])\n",
    "test_df  = test_df.drop(columns=[c for c in columns_to_drop if c in test_df.columns])\n",
    "\n",
    "# Check remaining columns\n",
    "print(train_df.columns.tolist())\n"
   ]
  },
  {
   "cell_type": "code",
   "execution_count": null,
   "id": "eb1d20c7",
   "metadata": {},
   "outputs": [],
   "source": [
    "# Convert categorical columns to numeric using One-Hot Encoding\n",
    "train_df = pd.get_dummies(train_df, columns=['category','gender'], drop_first=True)\n",
    "test_df  = pd.get_dummies(test_df, columns=['category','gender'], drop_first=True)\n",
    "\n",
    "# Check new columns\n",
    "print(train_df.columns.tolist())\n"
   ]
  },
  {
   "cell_type": "code",
   "execution_count": null,
   "id": "26521ebc",
   "metadata": {},
   "outputs": [],
   "source": [
    "\n",
    "\n",
    "# List of numeric columns to scale\n",
    "num_cols = ['amt', 'lat', 'long', 'city_pop', 'unix_time', 'merch_lat', 'merch_long']\n",
    "\n",
    "scaler = StandardScaler()\n",
    "train_df[num_cols] = scaler.fit_transform(train_df[num_cols])\n",
    "test_df[num_cols]  = scaler.transform(test_df[num_cols])\n",
    "\n",
    "# Check first 5 rows\n",
    "print(train_df.head())\n"
   ]
  },
  {
   "cell_type": "code",
   "execution_count": null,
   "id": "ccdd99b0",
   "metadata": {},
   "outputs": [],
   "source": [
    "# Features (X) and target (y)\n",
    "X_train = train_df.drop(columns=['is_fraud','merchant'])  # drop merchant for now\n",
    "y_train = train_df['is_fraud']\n",
    "\n",
    "X_test  = test_df.drop(columns=['is_fraud','merchant'])\n",
    "y_test  = test_df['is_fraud']\n",
    "\n",
    "# Check shapes\n",
    "print(X_train.shape, y_train.shape)\n",
    "print(X_test.shape, y_test.shape)\n"
   ]
  },
  {
   "cell_type": "code",
   "execution_count": null,
   "id": "f2bb550f",
   "metadata": {},
   "outputs": [],
   "source": []
  },
  {
   "cell_type": "code",
   "execution_count": null,
   "id": "ce8874d6",
   "metadata": {},
   "outputs": [],
   "source": [
    "\n",
    "model = LogisticRegression(max_iter=1000, class_weight='balanced')  # balanced handles class imbalance\n",
    "\n",
    "# Train the model\n",
    "model.fit(X_train, y_train)\n",
    "\n",
    "# Predictions\n",
    "y_pred = model.predict(X_test)\n",
    "\n",
    "# Evaluate\n",
    "print(confusion_matrix(y_test, y_pred))\n",
    "print(classification_report(y_test, y_pred))\n"
   ]
  },
  {
   "cell_type": "code",
   "execution_count": null,
   "id": "9b6634f4",
   "metadata": {},
   "outputs": [],
   "source": [
    "plt.figure(figsize=(10,6))\n",
    "# Plot legit transactions lightly\n",
    "plt.scatter(train_df['long'], train_df['lat'], c='blue', s=1, alpha=0.1, label='Legit')\n",
    "# Plot fraud transactions in red\n",
    "fraud_df = train_df[train_df['is_fraud']==1]\n",
    "plt.scatter(fraud_df['long'], fraud_df['lat'], c='red', s=10, alpha=0.6, label='Fraud')\n",
    "\n",
    "plt.title(\"Fraud vs Legit Transactions by Location\")\n",
    "plt.xlabel(\"Longitude\")\n",
    "plt.ylabel(\"Latitude\")\n",
    "plt.legend()\n",
    "plt.show()\n"
   ]
  }
 ],
 "metadata": {
  "kernelspec": {
   "display_name": "Python 3",
   "language": "python",
   "name": "python3"
  },
  "language_info": {
   "codemirror_mode": {
    "name": "ipython",
    "version": 3
   },
   "file_extension": ".py",
   "mimetype": "text/x-python",
   "name": "python",
   "nbconvert_exporter": "python",
   "pygments_lexer": "ipython3",
   "version": "3.13.1"
  }
 },
 "nbformat": 4,
 "nbformat_minor": 5
}
